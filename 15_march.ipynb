{
 "cells": [
  {
   "cell_type": "markdown",
   "id": "77817a34-b7f8-4a03-86e0-4b3a57ac255a",
   "metadata": {},
   "source": [
    "1.explain with examples:\n",
    "\n",
    "Artificial Intelligence\n",
    "Machine learning\n",
    "Deep learning"
   ]
  },
  {
   "cell_type": "markdown",
   "id": "67d49165-2ff3-4eee-8a70-dd026d02f4c5",
   "metadata": {},
   "source": [
    "Artificial intelligence:-It is the simulation of human intelligence processes by machines, especially computer systems.\n",
    "\n",
    "Machine learning:-It is a branch of artificial intelligence (AI) and computer science which focuses on the use of data and algorithms to imitate the way that humans learn, gradually improving its accuracy.\n",
    "\n",
    "Deep learning:-It is a method in artificial intelligence (AI) that teaches computers to process data in a way that is inspired by the human brain. Deep learning models can recognize complex patterns in pictures, text, sounds, and other data to produce accurate insights and predictions."
   ]
  },
  {
   "cell_type": "markdown",
   "id": "fa196bc3-56f5-4d04-987f-bdb86aaeadd1",
   "metadata": {},
   "source": [
    "Q2- What is Supervised Machine learning?, List some supervised machine learning."
   ]
  },
  {
   "cell_type": "markdown",
   "id": "762cb29c-5335-4dc3-b152-01b8924ba9b6",
   "metadata": {},
   "source": [
    "Supervised machine learning is a type of machine learning that learns the relationship between input and output. The inputs are known as features or ‘X variables’  and output is generally referred to as the target or ‘y variable’. The type of data which contains both the features and the target is known as labeled data.\n",
    "\n",
    " List some supervised machine learning:-\n",
    " Regression\n",
    " Classification\n",
    " Logistic regression"
   ]
  },
  {
   "cell_type": "markdown",
   "id": "fbe17563-1a9d-47d1-9e4f-1bbc8392c2d9",
   "metadata": {},
   "source": [
    "Q3- What is Unsupervised Machine learning?, List some unsupervised machine learning."
   ]
  },
  {
   "cell_type": "markdown",
   "id": "8557391a-455a-471c-ab5a-198188423756",
   "metadata": {},
   "source": [
    "Unsupervised learning in artificial intelligence is a type of machine learning that learns from data without human supervision. Unlike supervised learning, unsupervised machine learning models are given unlabeled data and allowed to discover patterns and insights without any explicit guidance or instruction.\n",
    "\n",
    "List some unsupervised machine learning:-\n",
    "K-means clustering.\n",
    "KNN (k-nearest neighbors)\n",
    "Hierarchal clustering.\n",
    "Anomaly detection.\n",
    "Neural Networks.\n",
    "Principle Component Analysis.\n",
    "Independent Component Analysis.\n",
    "Apriori algorithm."
   ]
  },
  {
   "cell_type": "markdown",
   "id": "f671cb26-c4d2-462c-82e5-749abb9557eb",
   "metadata": {},
   "source": [
    "4.What is different between AI,ML,DL and DS?"
   ]
  },
  {
   "cell_type": "markdown",
   "id": "a2c04ee6-a8fe-4ec1-9de6-46802b55b654",
   "metadata": {},
   "source": [
    "Artificial intelligence refers to machines that have the potential to replicate the cognitive capabilities that are associated with the human mind. It is about replicating human minds’ capabilities.\n",
    "\n",
    "Machine learning is generally considered to be the potentiality of a computer program to learn or boost performance through examples rather than detailed programmed rules. Machine learning is one of the essential tools which data scientists use to examine and interpret data.\n",
    "\n",
    "Data science refers to the accumulation of methods, tools, and practices of analyzing data to interpret and derive insights in order to support decision-making. \n",
    "\n",
    "Both AI and data science use machine learning as key tools. In AI, ML tools are used in real-time to allow machines to execute their action. ML is the essential tool in the field of AI to develop intelligent agents. \n",
    "\n",
    "In the field of data science, ML is used as a data analysis tool to unlock patterns in data and to make predictions.  "
   ]
  },
  {
   "cell_type": "markdown",
   "id": "08cbce23-906e-40b3-a169-ef9f35cdb90a",
   "metadata": {},
   "source": [
    "5.what is main different between  supervised, unsupervised and semi-supervised machine learning?"
   ]
  },
  {
   "cell_type": "markdown",
   "id": "348c232c-d9b4-4a2d-84e4-210b0029fdab",
   "metadata": {},
   "source": [
    "Supervised learning is a problem with labeled data, expecting to develop predictive capability. Unsupervised learning is discovering process, diving into unlabeled data to capture hidden information. Semi-supervised learning is a blend of supervised and unsupervised learning."
   ]
  },
  {
   "cell_type": "code",
   "execution_count": null,
   "id": "3e977365-fed2-4e3a-baae-24e699fa527b",
   "metadata": {},
   "outputs": [],
   "source": [
    "6.what is train, test validation split? explain importance each tearms."
   ]
  },
  {
   "cell_type": "markdown",
   "id": "efc0255d-2f91-4085-a364-86ca6835cd07",
   "metadata": {},
   "source": [
    "Train test split is a model validation process that allows you to check how your model would perform with a new data set and train-test-validation split helps assess how well a machine learning model will generalize to new, unseen data.\n",
    "\n",
    "Its Importance:-\n",
    "it allows you to train a model on the training set and then test its accuracy on the testing set. This allows you to get a general sense of how well your model is performing, and also tells you whether or not your model is performing as expected."
   ]
  },
  {
   "cell_type": "code",
   "execution_count": null,
   "id": "0ad535ef-7545-435a-874b-e83524836e8f",
   "metadata": {},
   "outputs": [],
   "source": [
    "7.How can Unsupervised learning be used in anomaly detection?"
   ]
  },
  {
   "cell_type": "markdown",
   "id": "6299da46-c7ca-428f-8dad-f1ebd4a171f9",
   "metadata": {},
   "source": [
    "Anomaly detection techniques of unsupervised nature assume that normal data points occur considerably more frequently than anomalous data points. This assumption is used to classify data points that occur less frequently as anomalies. Unsupervised techniques assign each data point a score instead of a label."
   ]
  },
  {
   "cell_type": "code",
   "execution_count": null,
   "id": "c04bb457-642a-434f-8999-485654543106",
   "metadata": {},
   "outputs": [],
   "source": [
    "List down some commly used supervised learning algorithms and unsupervised leaning algorithms."
   ]
  },
  {
   "cell_type": "code",
   "execution_count": null,
   "id": "2ddf547c-0ba3-46ff-ab2c-3c689d4e3d9c",
   "metadata": {},
   "outputs": [],
   "source": []
  }
 ],
 "metadata": {
  "kernelspec": {
   "display_name": "Python 3 (ipykernel)",
   "language": "python",
   "name": "python3"
  },
  "language_info": {
   "codemirror_mode": {
    "name": "ipython",
    "version": 3
   },
   "file_extension": ".py",
   "mimetype": "text/x-python",
   "name": "python",
   "nbconvert_exporter": "python",
   "pygments_lexer": "ipython3",
   "version": "3.10.8"
  }
 },
 "nbformat": 4,
 "nbformat_minor": 5
}
